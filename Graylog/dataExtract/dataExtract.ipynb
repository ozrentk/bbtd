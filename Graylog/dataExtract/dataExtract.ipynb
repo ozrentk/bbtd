{
 "cells": [
  {
   "cell_type": "code",
   "execution_count": 24,
   "metadata": {},
   "outputs": [
    {
     "name": "stdout",
     "output_type": "stream",
     "text": [
      "Request failed with status code: 401\n"
     ]
    }
   ],
   "source": [
    "import requests\n",
    "from datetime import datetime, timedelta\n",
    "\n",
    "# Graylog server information\n",
    "graylog_url = \"http://127.0.0.1:9000/api\"\n",
    "stream_id = \"000000000000000000000001\"\n",
    "#api_token = \"87u9fto31fo7pr0sip9vlvm1a2d207lhm41qr11q24r20dnu3ud\"\n",
    "api_token = \"3ja71kh4qaufutum47j95bra75h35bk9920rhaocbv96q001etm\"\n",
    "\n",
    "# Define the time range\n",
    "end_time = datetime.now()\n",
    "start_time = end_time - timedelta(hours=1)\n",
    "\n",
    "# Graylog REST API endpoint\n",
    "endpoint = f\"{graylog_url}/search/universal/absolute\"\n",
    "\n",
    "# Construct the query payload\n",
    "payload = {\n",
    "    \"query\": f\"streams:{stream_id}\",\n",
    "    \"from\": start_time.strftime(\"%Y-%m-%dT%H:%M:%S.%fZ\"),\n",
    "    \"to\": end_time.strftime(\"%Y-%m-%dT%H:%M:%S.%fZ\")\n",
    "}\n",
    "\n",
    "# Send the request\n",
    "headers = {\"Accept\": \"application/json\"}\n",
    "response = requests.get(endpoint, headers=headers, params=payload, auth=(api_token, \"\"))\n",
    "\n",
    "# Process the response\n",
    "if response.status_code == 200:\n",
    "    logs = response.json()\n",
    "    for message in logs[\"messages\"]:\n",
    "        print(message[\"message\"])\n",
    "else:\n",
    "    print(f\"Request failed with status code: {response.status_code}\")"
   ]
  },
  {
   "cell_type": "code",
   "execution_count": 25,
   "metadata": {},
   "outputs": [
    {
     "name": "stdout",
     "output_type": "stream",
     "text": [
      "Request failed with status code: 400\n",
      "{'_content': b'must not be empty (path = AbsoluteSearchResource.searchAbsoluteChunked.arg7, invalidValue = null)\\n', '_content_consumed': True, '_next': None, 'status_code': 400, 'headers': {'Vary': 'Accept', 'X-Content-Type-Options': 'nosniff', 'X-Frame-Options': 'DENY', 'X-Graylog-Node-ID': '4906c711-7c87-4d25-9093-8a34d845593d', 'X-Runtime-Microseconds': '2883', 'Content-Type': 'text/plain', 'Connection': 'close', 'Content-Length': '98'}, 'raw': <urllib3.response.HTTPResponse object at 0x000001CAFF3B6860>, 'url': 'http://127.0.0.1:9000/api/search/universal/absolute?query=%2A&from=2023-08-30T22%3A51%3A06.561422Z&to=2023-08-30T23%3A51%3A06.561422Z&sort=asc', 'encoding': 'ISO-8859-1', 'history': [], 'reason': 'Bad Request', 'cookies': <RequestsCookieJar[]>, 'elapsed': datetime.timedelta(microseconds=11837), 'request': <PreparedRequest [GET]>, 'connection': <requests.adapters.HTTPAdapter object at 0x000001CAFF168640>}\n"
     ]
    }
   ],
   "source": [
    "import requests\n",
    "from datetime import datetime, timedelta\n",
    "\n",
    "end_time = datetime.now()\n",
    "start_time = end_time - timedelta(hours=1)\n",
    "\n",
    "# Graylog REST API endpoint\n",
    "endpoint = \"http://127.0.0.1:9000/api/search/universal/absolute\"\n",
    "\n",
    "# Construct the query payload\n",
    "payload = {\n",
    "    \"query\": \"*\",\n",
    "    \"from\": start_time.strftime(\"%Y-%m-%dT%H:%M:%S.%fZ\"),\n",
    "    \"to\": end_time.strftime(\"%Y-%m-%dT%H:%M:%S.%fZ\"),\n",
    "    \"sort\": \"asc\"\n",
    "}\n",
    "\n",
    "api_token = \"3ja71kh4qaufutum47j95bra75h35bk9920rhaocbv96q001etm\"\n",
    "response = requests.get(endpoint, params=payload, auth=(api_token, \"token\"))\n",
    "\n",
    "# Process the response\n",
    "if response.status_code == 200:\n",
    "    logs = response.json()\n",
    "    for message in logs[\"messages\"]:\n",
    "        print(message[\"message\"])\n",
    "else:\n",
    "    print(f\"Request failed with status code: {response.status_code}\")\n",
    "    print(response.__dict__)"
   ]
  }
 ],
 "metadata": {
  "kernelspec": {
   "display_name": "Python 3",
   "language": "python",
   "name": "python3"
  },
  "language_info": {
   "codemirror_mode": {
    "name": "ipython",
    "version": 3
   },
   "file_extension": ".py",
   "mimetype": "text/x-python",
   "name": "python",
   "nbconvert_exporter": "python",
   "pygments_lexer": "ipython3",
   "version": "3.10.7"
  },
  "orig_nbformat": 4
 },
 "nbformat": 4,
 "nbformat_minor": 2
}
